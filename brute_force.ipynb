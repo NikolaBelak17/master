{
 "cells": [
  {
   "cell_type": "code",
   "execution_count": 9,
   "id": "d573f504-be1a-4b5f-95b6-96f4f597f9aa",
   "metadata": {},
   "outputs": [],
   "source": [
    "from itertools import combinations\n",
    "from itertools import product"
   ]
  },
  {
   "cell_type": "code",
   "execution_count": 10,
   "id": "0c03ed9a-c96c-4ecd-9465-be8487d80778",
   "metadata": {},
   "outputs": [],
   "source": [
    "def is_horn_theory(assignment,M):\n",
    "    if tuple(assignment) not in M:\n",
    "        return False\n",
    "    return True"
   ]
  },
  {
   "cell_type": "code",
   "execution_count": 11,
   "id": "b24c6889-8ca9-4113-bc5b-409960c11be2",
   "metadata": {},
   "outputs": [],
   "source": [
    "def brute_force(M, n):\n",
    "    horn_core = []\n",
    "    for r in range(1, len(M)+1):\n",
    "        for combination in combinations(M, r):\n",
    "            assignment = [True] * n\n",
    "            satisfied=True\n",
    "            if len(combination)==1:\n",
    "                for model in combination:\n",
    "                    for i, value in enumerate(model):\n",
    "                        assignment[i] &= value\n",
    "                        \n",
    "                if not is_horn_theory(assignment,M):\n",
    "                    satisfied=False\n",
    "            else:\n",
    "                for pair in combinations(combination, 2):\n",
    "                    assignment = [True] * n\n",
    "                    for i in range(n):\n",
    "                        assignment[i] &= pair[0][i] & pair[1][i]\n",
    "                    \n",
    "                    if not is_horn_theory(assignment,M):\n",
    "                        satisfied=False  \n",
    "                        break\n",
    "            if satisfied and len(combination) > len(horn_core):\n",
    "                horn_core = combination\n",
    "    return list(horn_core)"
   ]
  },
  {
   "cell_type": "code",
   "execution_count": null,
   "id": "125d90fa-4ec9-4728-b7a4-e686f22a2536",
   "metadata": {},
   "outputs": [],
   "source": []
  }
 ],
 "metadata": {
  "kernelspec": {
   "display_name": "Python 3 (ipykernel)",
   "language": "python",
   "name": "python3"
  },
  "language_info": {
   "codemirror_mode": {
    "name": "ipython",
    "version": 3
   },
   "file_extension": ".py",
   "mimetype": "text/x-python",
   "name": "python",
   "nbconvert_exporter": "python",
   "pygments_lexer": "ipython3",
   "version": "3.10.12"
  }
 },
 "nbformat": 4,
 "nbformat_minor": 5
}
