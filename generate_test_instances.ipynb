{
 "cells": [
  {
   "cell_type": "code",
   "execution_count": 2,
   "id": "02817253-229a-47de-a418-84caba30ad90",
   "metadata": {},
   "outputs": [],
   "source": [
    "import random\n",
    "import os\n",
    "import re"
   ]
  },
  {
   "cell_type": "code",
   "execution_count": 4,
   "id": "ab4a079f-4c70-4493-b9e5-06eae584d73f",
   "metadata": {},
   "outputs": [
    {
     "name": "stdin",
     "output_type": "stream",
     "text": [
      "Unesite broj n:  0\n"
     ]
    },
    {
     "ename": "ValueError",
     "evalue": "empty range for randrange() (3, 2, -1)",
     "output_type": "error",
     "traceback": [
      "\u001b[0;31m---------------------------------------------------------------------------\u001b[0m",
      "\u001b[0;31mValueError\u001b[0m                                Traceback (most recent call last)",
      "Cell \u001b[0;32mIn[4], line 36\u001b[0m\n\u001b[1;32m     34\u001b[0m \u001b[38;5;28;01mif\u001b[39;00m \u001b[38;5;18m__name__\u001b[39m\u001b[38;5;241m==\u001b[39m\u001b[38;5;124m\"\u001b[39m\u001b[38;5;124m__main__\u001b[39m\u001b[38;5;124m\"\u001b[39m:\n\u001b[1;32m     35\u001b[0m     n\u001b[38;5;241m=\u001b[39m\u001b[38;5;28mint\u001b[39m(\u001b[38;5;28minput\u001b[39m(\u001b[38;5;124m\"\u001b[39m\u001b[38;5;124mUnesite broj n: \u001b[39m\u001b[38;5;124m\"\u001b[39m))\n\u001b[0;32m---> 36\u001b[0m     instances\u001b[38;5;241m=\u001b[39m\u001b[43mgenerate_instances\u001b[49m\u001b[43m(\u001b[49m\u001b[43mn\u001b[49m\u001b[43m)\u001b[49m\n\u001b[1;32m     37\u001b[0m     file_name\u001b[38;5;241m=\u001b[39mgenerate_file_name()\n\u001b[1;32m     38\u001b[0m     write_instances_to_file(instances,file_name)\n",
      "Cell \u001b[0;32mIn[4], line 21\u001b[0m, in \u001b[0;36mgenerate_instances\u001b[0;34m(n)\u001b[0m\n\u001b[1;32m     19\u001b[0m max_combinations_size\u001b[38;5;241m=\u001b[39m\u001b[38;5;241m2\u001b[39m\u001b[38;5;241m*\u001b[39m\u001b[38;5;241m*\u001b[39mn\n\u001b[1;32m     20\u001b[0m min_combinations_size\u001b[38;5;241m=\u001b[39m\u001b[38;5;241m3\u001b[39m\n\u001b[0;32m---> 21\u001b[0m num_combinations\u001b[38;5;241m=\u001b[39m\u001b[43mrandom\u001b[49m\u001b[38;5;241;43m.\u001b[39;49m\u001b[43mrandint\u001b[49m\u001b[43m(\u001b[49m\u001b[43mmin_combinations_size\u001b[49m\u001b[43m,\u001b[49m\u001b[43mmax_combinations_size\u001b[49m\u001b[43m)\u001b[49m\n\u001b[1;32m     23\u001b[0m \u001b[38;5;28;01mwhile\u001b[39;00m \u001b[38;5;28mlen\u001b[39m(truth_assignments) \u001b[38;5;241m<\u001b[39m num_combinations:\n\u001b[1;32m     24\u001b[0m     combination\u001b[38;5;241m=\u001b[39m\u001b[38;5;28mtuple\u001b[39m(random\u001b[38;5;241m.\u001b[39mrandint(\u001b[38;5;241m0\u001b[39m,\u001b[38;5;241m1\u001b[39m) \u001b[38;5;28;01mfor\u001b[39;00m _ \u001b[38;5;129;01min\u001b[39;00m \u001b[38;5;28mrange\u001b[39m(n))\n",
      "File \u001b[0;32m/usr/lib/python3.10/random.py:370\u001b[0m, in \u001b[0;36mRandom.randint\u001b[0;34m(self, a, b)\u001b[0m\n\u001b[1;32m    366\u001b[0m \u001b[38;5;28;01mdef\u001b[39;00m \u001b[38;5;21mrandint\u001b[39m(\u001b[38;5;28mself\u001b[39m, a, b):\n\u001b[1;32m    367\u001b[0m \u001b[38;5;250m    \u001b[39m\u001b[38;5;124;03m\"\"\"Return random integer in range [a, b], including both end points.\u001b[39;00m\n\u001b[1;32m    368\u001b[0m \u001b[38;5;124;03m    \"\"\"\u001b[39;00m\n\u001b[0;32m--> 370\u001b[0m     \u001b[38;5;28;01mreturn\u001b[39;00m \u001b[38;5;28;43mself\u001b[39;49m\u001b[38;5;241;43m.\u001b[39;49m\u001b[43mrandrange\u001b[49m\u001b[43m(\u001b[49m\u001b[43ma\u001b[49m\u001b[43m,\u001b[49m\u001b[43m \u001b[49m\u001b[43mb\u001b[49m\u001b[38;5;241;43m+\u001b[39;49m\u001b[38;5;241;43m1\u001b[39;49m\u001b[43m)\u001b[49m\n",
      "File \u001b[0;32m/usr/lib/python3.10/random.py:353\u001b[0m, in \u001b[0;36mRandom.randrange\u001b[0;34m(self, start, stop, step)\u001b[0m\n\u001b[1;32m    351\u001b[0m     \u001b[38;5;28;01mif\u001b[39;00m width \u001b[38;5;241m>\u001b[39m \u001b[38;5;241m0\u001b[39m:\n\u001b[1;32m    352\u001b[0m         \u001b[38;5;28;01mreturn\u001b[39;00m istart \u001b[38;5;241m+\u001b[39m \u001b[38;5;28mself\u001b[39m\u001b[38;5;241m.\u001b[39m_randbelow(width)\n\u001b[0;32m--> 353\u001b[0m     \u001b[38;5;28;01mraise\u001b[39;00m \u001b[38;5;167;01mValueError\u001b[39;00m(\u001b[38;5;124m\"\u001b[39m\u001b[38;5;124mempty range for randrange() (\u001b[39m\u001b[38;5;132;01m%d\u001b[39;00m\u001b[38;5;124m, \u001b[39m\u001b[38;5;132;01m%d\u001b[39;00m\u001b[38;5;124m, \u001b[39m\u001b[38;5;132;01m%d\u001b[39;00m\u001b[38;5;124m)\u001b[39m\u001b[38;5;124m\"\u001b[39m \u001b[38;5;241m%\u001b[39m (istart, istop, width))\n\u001b[1;32m    355\u001b[0m \u001b[38;5;66;03m# Non-unit step argument supplied.\u001b[39;00m\n\u001b[1;32m    356\u001b[0m \u001b[38;5;28;01mif\u001b[39;00m istep \u001b[38;5;241m>\u001b[39m \u001b[38;5;241m0\u001b[39m:\n",
      "\u001b[0;31mValueError\u001b[0m: empty range for randrange() (3, 2, -1)"
     ]
    }
   ],
   "source": [
    "def generate_file_name():\n",
    "    directory=\"./TestInstances/\"\n",
    "    os.makedirs(directory,exist_ok=True)\n",
    "    dir_f=[]\n",
    "    for entry in os.listdir(directory):\n",
    "        if re.match(r\"TestIncances\\d+\\.txt\",entry):\n",
    "            dir_f.append(entry)\n",
    "\n",
    "    if not dir_f:\n",
    "        return directory + \"TestInstances1.txt\"\n",
    "    else:\n",
    "        nums=[int(re.search(r\"\\d+\",fname).group()) for fname in dir_f]\n",
    "        num=max(nums)\n",
    "        return directory + f\"TestInstances{num+1}.txt\"\n",
    "\n",
    "def generate_instances(n):\n",
    "\n",
    "    truth_assignments=set()\n",
    "    max_combinations_size=2**n\n",
    "    min_combinations_size=3\n",
    "    num_combinations=random.randint(min_combinations_size,max_combinations_size)\n",
    "\n",
    "    while len(truth_assignments) < num_combinations:\n",
    "        combination=tuple(random.randint(0,1) for _ in range(n))\n",
    "        truth_assignments.add(combination)\n",
    "\n",
    "    return list(truth_assignments)\n",
    "\n",
    "def write_instances_to_file(instances,filename):\n",
    "    with open(filename,\"w\") as file:\n",
    "        for instance in instances:\n",
    "            file.write(' '.join(map(str,instance))+'\\n')\n",
    "\n",
    "if __name__==\"__main__\":\n",
    "    n=int(input(\"Unesite broj n: \"))\n",
    "    instances=generate_instances(n)\n",
    "    file_name=generate_file_name()\n",
    "    write_instances_to_file(instances,file_name)"
   ]
  },
  {
   "cell_type": "code",
   "execution_count": null,
   "id": "a0250f68-d20b-4dc0-aa83-0ccbaf22c632",
   "metadata": {},
   "outputs": [],
   "source": []
  }
 ],
 "metadata": {
  "kernelspec": {
   "display_name": "Python 3 (ipykernel)",
   "language": "python",
   "name": "python3"
  },
  "language_info": {
   "codemirror_mode": {
    "name": "ipython",
    "version": 3
   },
   "file_extension": ".py",
   "mimetype": "text/x-python",
   "name": "python",
   "nbconvert_exporter": "python",
   "pygments_lexer": "ipython3",
   "version": "3.10.12"
  }
 },
 "nbformat": 4,
 "nbformat_minor": 5
}
