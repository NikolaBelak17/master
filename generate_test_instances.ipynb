{
 "cells": [
  {
   "cell_type": "code",
   "execution_count": 1,
   "id": "02817253-229a-47de-a418-84caba30ad90",
   "metadata": {},
   "outputs": [],
   "source": [
    "import random\n",
    "import os\n",
    "import re"
   ]
  },
  {
   "cell_type": "code",
   "execution_count": 17,
   "id": "ab4a079f-4c70-4493-b9e5-06eae584d73f",
   "metadata": {},
   "outputs": [
    {
     "name": "stdin",
     "output_type": "stream",
     "text": [
      "Unesite broj n:  8\n",
      "Unesite broj m:  200\n"
     ]
    }
   ],
   "source": [
    "def generate_file_name():\n",
    "    directory=\"./TestInstances/\"\n",
    "    os.makedirs(directory,exist_ok=True)\n",
    "    dir_f=[]\n",
    "    for entry in os.listdir(directory):\n",
    "        if re.match(r\"TestInstances\\d+\\.txt\",entry):\n",
    "            dir_f.append(entry)\n",
    "\n",
    "    if not dir_f:\n",
    "        return directory + \"TestInstances6.txt\"\n",
    "    else:\n",
    "        nums=[int(re.search(r\"\\d+\",fname).group()) for fname in dir_f]\n",
    "        num=max(nums)\n",
    "        return directory + f\"TestInstances{num+1}.txt\"\n",
    "\n",
    "def generate_instances(n,m):\n",
    "\n",
    "    truth_assignments=set()\n",
    "\n",
    "    while len(truth_assignments) < m:\n",
    "        combination=tuple(random.randint(0,1) for _ in range(n))\n",
    "        truth_assignments.add(combination)\n",
    "\n",
    "    return list(truth_assignments)\n",
    "\n",
    "def write_instances_to_file(instances,filename):\n",
    "    with open(filename,\"w\") as file:\n",
    "        for instance in instances:\n",
    "            file.write(' '.join(map(str,instance))+'\\n')\n",
    "\n",
    "if __name__==\"__main__\":\n",
    "    n=int(input(\"Unesite broj n: \"))\n",
    "    m=int(input(\"Unesite broj m: \"))\n",
    "    instances=generate_instances(n,m)\n",
    "    file_name=generate_file_name()\n",
    "    write_instances_to_file(instances,file_name)"
   ]
  },
  {
   "cell_type": "code",
   "execution_count": null,
   "id": "a0250f68-d20b-4dc0-aa83-0ccbaf22c632",
   "metadata": {},
   "outputs": [],
   "source": []
  }
 ],
 "metadata": {
  "kernelspec": {
   "display_name": "Python 3 (ipykernel)",
   "language": "python",
   "name": "python3"
  },
  "language_info": {
   "codemirror_mode": {
    "name": "ipython",
    "version": 3
   },
   "file_extension": ".py",
   "mimetype": "text/x-python",
   "name": "python",
   "nbconvert_exporter": "python",
   "pygments_lexer": "ipython3",
   "version": "3.10.12"
  }
 },
 "nbformat": 4,
 "nbformat_minor": 5
}
