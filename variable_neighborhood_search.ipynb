{
 "cells": [
  {
   "cell_type": "code",
   "execution_count": 2,
   "id": "bea70194-0d09-4416-82bc-145d1d65f5c7",
   "metadata": {},
   "outputs": [],
   "source": [
    "import random"
   ]
  },
  {
   "cell_type": "code",
   "execution_count": 3,
   "id": "12869b2c-0cbb-4342-b0c4-18d44385c173",
   "metadata": {},
   "outputs": [],
   "source": [
    "def is_horn_theory(assignment,M):\n",
    "    if tuple(assignment) not in M:\n",
    "        return False\n",
    "    return True"
   ]
  },
  {
   "cell_type": "code",
   "execution_count": 4,
   "id": "3d58be05-012a-4a4c-b90a-bdfa9b1a62f9",
   "metadata": {},
   "outputs": [],
   "source": [
    "def shaking(current_core,M):\n",
    "    new_core=set(current_core)\n",
    "    if new_core:\n",
    "        assignment_to_remove=random.choice(list(new_core))\n",
    "        new_core.remove(assignment_to_remove)\n",
    "        new_element=random.choice(M)\n",
    "        while new_element in new_core:\n",
    "            new_element=random.choice(M)\n",
    "\n",
    "        new_core.add(new_element)\n",
    "    return new_core"
   ]
  },
  {
   "cell_type": "code",
   "execution_count": 7,
   "id": "c5e56c3f-ab48-408f-946f-4cfacc707259",
   "metadata": {},
   "outputs": [],
   "source": [
    "def local_search(current_core,M):\n",
    "    new_core=set(current_core)\n",
    "    used_assignment=set(current_core)\n",
    "\n",
    "    for _ in range(len(M)):\n",
    "        if len(used_assignment) == len(M):\n",
    "            break\n",
    "        while True:\n",
    "            random_assignment=random.choice(M)\n",
    "            if random_assignment not in used_assignment:\n",
    "                break\n",
    "        used_assignment.add(random_assignment)        \n",
    "        \n",
    "        new_core=current_core | set([random_assignment])\n",
    "\n",
    "        for pair in combinations(new_core, 2):\n",
    "            new_assignment = [all(var_values) for var_values in zip(*pair)]\n",
    "            new_assignment = [int(val) for val in new_assignment]\n",
    "\n",
    "            if not is_horn_theory(new_assignment, M):\n",
    "                break\n",
    "        else:  \n",
    "            current_core = new_core\n",
    "    return current_core"
   ]
  },
  {
   "cell_type": "code",
   "execution_count": 8,
   "id": "9e26e3e4-3e29-4f03-879f-bcef6567d384",
   "metadata": {},
   "outputs": [],
   "source": [
    "def variable_neighborhood_search(M,max_iterations,k_max,move_prob):\n",
    "    horn_core=set()\n",
    "    horn_core.add(random.choice(M))\n",
    "    max_core_size=len(horn_core)\n",
    "\n",
    "    for i in range(max_iterations):\n",
    "        for k in range(1,k_max):\n",
    "            shaked_core=shaking(horn_core,M)\n",
    "            current_core=local_search(shaked_core,M)\n",
    "            current_core_size=len(current_core)\n",
    "            \n",
    "            if current_core_size>max_core_size or (current_core_size==max_core_size and random.random()<move_prob):\n",
    "                max_core_size=current_core_size\n",
    "                horn_core=current_core\n",
    "                break\n",
    "\n",
    "    return list(horn_core)"
   ]
  },
  {
   "cell_type": "code",
   "execution_count": null,
   "id": "d93470bb-8ab5-4412-a2b1-a04a0344e458",
   "metadata": {},
   "outputs": [],
   "source": []
  }
 ],
 "metadata": {
  "kernelspec": {
   "display_name": "Python 3 (ipykernel)",
   "language": "python",
   "name": "python3"
  },
  "language_info": {
   "codemirror_mode": {
    "name": "ipython",
    "version": 3
   },
   "file_extension": ".py",
   "mimetype": "text/x-python",
   "name": "python",
   "nbconvert_exporter": "python",
   "pygments_lexer": "ipython3",
   "version": "3.10.12"
  }
 },
 "nbformat": 4,
 "nbformat_minor": 5
}
