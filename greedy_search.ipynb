{
 "cells": [
  {
   "cell_type": "code",
   "execution_count": 2,
   "id": "f9b4a993-d771-4dd0-9d4a-fafbafd2b935",
   "metadata": {},
   "outputs": [],
   "source": [
    "from itertools import combinations\n",
    "import random"
   ]
  },
  {
   "cell_type": "code",
   "execution_count": 3,
   "id": "675bedd1-c15f-46d3-837a-9277effffadd",
   "metadata": {},
   "outputs": [],
   "source": [
    "def is_horn_theory(assignment,M):\n",
    "    if tuple(assignment) not in M:\n",
    "        return False\n",
    "    return True"
   ]
  },
  {
   "cell_type": "code",
   "execution_count": 4,
   "id": "5afedc91-7252-4f3c-a7e7-6b20fdd8d9ec",
   "metadata": {},
   "outputs": [],
   "source": [
    "def greedy_search(M,n):\n",
    "    horn_core=set()\n",
    "    used_assignment=set()\n",
    "\n",
    "    random_assignment=random.choice(M)\n",
    "    used_assignment.add(random_assignment)\n",
    "    horn_core.add(random_assignment)\n",
    "\n",
    "    for _ in range(len(M)):\n",
    "        if len(used_assignment) == len(M):\n",
    "            break\n",
    "\n",
    "        while True:\n",
    "            random_assignment=random.choice(M)\n",
    "            if random_assignment not in used_assignment:\n",
    "                break\n",
    "        used_assignment.add(random_assignment)\n",
    "        \n",
    "        new_core=horn_core | set([random_assignment])\n",
    "        \n",
    "        for pair in combinations(new_core,2):\n",
    "            new_assignment=[all(var_values) for var_values in zip(*pair)]\n",
    "            new_assignment=[int(val) for val in new_assignment]\n",
    "\n",
    "            if not is_horn_theory(new_assignment,M):\n",
    "                break\n",
    "        else:\n",
    "            horn_core=new_core\n",
    "    \n",
    "    return list(horn_core)"
   ]
  },
  {
   "cell_type": "code",
   "execution_count": null,
   "id": "2455bd54-5c74-4324-aac9-b39c9d9f2d14",
   "metadata": {},
   "outputs": [],
   "source": []
  }
 ],
 "metadata": {
  "kernelspec": {
   "display_name": "Python 3 (ipykernel)",
   "language": "python",
   "name": "python3"
  },
  "language_info": {
   "codemirror_mode": {
    "name": "ipython",
    "version": 3
   },
   "file_extension": ".py",
   "mimetype": "text/x-python",
   "name": "python",
   "nbconvert_exporter": "python",
   "pygments_lexer": "ipython3",
   "version": "3.10.12"
  }
 },
 "nbformat": 4,
 "nbformat_minor": 5
}
